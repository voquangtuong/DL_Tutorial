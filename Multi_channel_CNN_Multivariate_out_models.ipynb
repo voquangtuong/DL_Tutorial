{
  "nbformat": 4,
  "nbformat_minor": 0,
  "metadata": {
    "colab": {
      "name": "Multi_channel_CNN_Multivariate_out_models.ipynb",
      "provenance": [],
      "collapsed_sections": [],
      "toc_visible": true,
      "authorship_tag": "ABX9TyOJCFdXDr5x/hn5EK2r4lMq",
      "include_colab_link": true
    },
    "kernelspec": {
      "name": "python3",
      "display_name": "Python 3"
    },
    "language_info": {
      "name": "python"
    }
  },
  "cells": [
    {
      "cell_type": "markdown",
      "metadata": {
        "id": "view-in-github",
        "colab_type": "text"
      },
      "source": [
        "<a href=\"https://colab.research.google.com/github/voquangtuong/DL_Tutorial/blob/master/Multi_channel_CNN_Multivariate_out_models.ipynb\" target=\"_parent\"><img src=\"https://colab.research.google.com/assets/colab-badge.svg\" alt=\"Open In Colab\"/></a>"
      ]
    },
    {
      "cell_type": "markdown",
      "metadata": {
        "id": "jwcrS6rWfRJ0"
      },
      "source": [
        "# 1. CONNECT GGD"
      ]
    },
    {
      "cell_type": "code",
      "metadata": {
        "colab": {
          "base_uri": "https://localhost:8080/"
        },
        "id": "8cUMQchcfvs8",
        "outputId": "125b41da-e972-4dde-d3e1-4bb5b36bac79"
      },
      "source": [
        "from google.colab import drive\n",
        "drive.mount('/content/drive')"
      ],
      "execution_count": 31,
      "outputs": [
        {
          "output_type": "stream",
          "text": [
            "Drive already mounted at /content/drive; to attempt to forcibly remount, call drive.mount(\"/content/drive\", force_remount=True).\n"
          ],
          "name": "stdout"
        }
      ]
    },
    {
      "cell_type": "code",
      "metadata": {
        "id": "7jEUZOOHgFeU"
      },
      "source": [
        "import os\n",
        "os.chdir('/content/drive/MyDrive')\n",
        "out_dirs=['out_figs_CNN','out_tabs_CNN']\n",
        "for out_dir in out_dirs:\n",
        "    if not os.path.exists(out_dir):\n",
        "        os.makedirs(out_dir)"
      ],
      "execution_count": 32,
      "outputs": []
    },
    {
      "cell_type": "markdown",
      "metadata": {
        "id": "xDuoIzX9h45p"
      },
      "source": [
        "# 2. BASIC LIBRARIES AND FUNCTIONS"
      ]
    },
    {
      "cell_type": "markdown",
      "metadata": {
        "id": "fFNxwVv7qeiI"
      },
      "source": [
        "## 2.1 LIBRARIES"
      ]
    },
    {
      "cell_type": "code",
      "metadata": {
        "id": "uBF3igx4qjhd"
      },
      "source": [
        "from math import sqrt\n",
        "from numpy import split\n",
        "from numpy import array\n",
        "from pandas import read_csv\n",
        "from sklearn.metrics import mean_squared_error\n",
        "from matplotlib import pyplot\n",
        "from keras.models import Sequential\n",
        "from keras.layers import Dense\n",
        "from keras.layers import Flatten\n",
        "from keras.layers.convolutional import Conv1D\n",
        "from keras.layers.convolutional import MaxPooling1D\n",
        "import pandas as pd\n",
        "import numpy as np\n",
        "import matplotlib.pyplot as plt\n"
      ],
      "execution_count": 33,
      "outputs": []
    },
    {
      "cell_type": "markdown",
      "metadata": {
        "id": "VCKxoRwSh70k"
      },
      "source": [
        "## 2.1 CONVERT HISTORY INTO INPUTS AND OUTPUTS"
      ]
    },
    {
      "cell_type": "code",
      "metadata": {
        "id": "DVeSgIVCiEP5"
      },
      "source": [
        "# convert history into inputs and outputs\n",
        "def to_supervised(train, n_input, n_out=6):\n",
        "  # flatten data\n",
        "  data = train.reshape((train.shape[0]*train.shape[1], train.shape[2]))\n",
        "  X, y = list(), list()\n",
        "  in_start = 0\n",
        "  # step over the entire history one time step at a time\n",
        "  for _ in range(len(data)):\n",
        "    # define the end of the input sequence\n",
        "    in_end = in_start + n_input\n",
        "    out_end = in_end + n_out\n",
        "    # ensure we have enough data for this instance\n",
        "    if out_end < len(data):\n",
        "      X.append(data[in_start:in_end, :])\n",
        "      y.append(data[in_end:out_end, 0])\n",
        "  # move along one time step\n",
        "  in_start += 1\n",
        "  return np.array(X), np.array(y)"
      ],
      "execution_count": 34,
      "outputs": []
    },
    {
      "cell_type": "markdown",
      "metadata": {
        "id": "uAt_0JdzijCz"
      },
      "source": [
        "## 2.2 FORCASTING FUNCTIONS"
      ]
    },
    {
      "cell_type": "code",
      "metadata": {
        "id": "JC35W-VoiobR"
      },
      "source": [
        "# make a forecast\n",
        "def forecast(model, history, n_input):\n",
        "  # flatten data\n",
        "  data = array(history)\n",
        "  data = data.reshape((data.shape[0]*data.shape[1], data.shape[2]))\n",
        "  # retrieve last observations for input data\n",
        "  input_x = data[-n_input:, :]\n",
        "  # reshape into [1, n_input, n]\n",
        "  input_x = input_x.reshape((1, input_x.shape[0], input_x.shape[1]))\n",
        "  # forecast the next week\n",
        "  yhat = model.predict(input_x, verbose=0)\n",
        "  # we only want the vector forecast\n",
        "  yhat = yhat[0] # ORG bo di de lay het gia tri cua cac channel\n",
        "\n",
        "  return yhat"
      ],
      "execution_count": 35,
      "outputs": []
    },
    {
      "cell_type": "markdown",
      "metadata": {
        "id": "0VvRMbT0oIct"
      },
      "source": [
        "## 2.3 EVALUATE FORECAST FUNCTIONS"
      ]
    },
    {
      "cell_type": "code",
      "metadata": {
        "id": "uQgzi1XzoPRH"
      },
      "source": [
        "def evaluate_forecasts(actual,predicted):\n",
        "  scores=list()\n",
        "  for i in range(actual.shape[1]):\n",
        "    mse=mean_squared_error(actual[:,i],predicted[:,i])\n",
        "    rmse=sqrt(mse)\n",
        "    scores.append(rmse)\n",
        "  # calculate overall RMSE\n",
        "  s=0\n",
        "  for row in range(actual.shape[0]):\n",
        "    for col in range(actual.shape[1]):\n",
        "      s+=(actual[row,col]-predicted[row,col])**2\n",
        "  score=sqrt(s/(actual.shape[0]*actual.shape[1]))\n",
        "  return score, scores\n",
        "  # score: sai so trung binh toan bo\n",
        "  # scores: sai so cua tung buoc"
      ],
      "execution_count": 36,
      "outputs": []
    },
    {
      "cell_type": "markdown",
      "metadata": {
        "id": "KjPDKW-Am4jP"
      },
      "source": [
        "## 2.3 EVALUATE MODEL FUNCTIONS"
      ]
    },
    {
      "cell_type": "code",
      "metadata": {
        "id": "Y0nXo-vHnAL5"
      },
      "source": [
        "# evaluate a single model\n",
        "def evaluate_model(train, test, n_input):\n",
        "# fit model\n",
        "  model = build_model(train, n_input)\n",
        "  # history is a list of weekly data\n",
        "  history = [x for x in train]\n",
        "  # walk-forward validation over each week\n",
        "  predictions = list()\n",
        "  for i in range(len(test)):\n",
        "    # predict the week\n",
        "    yhat_sequence = forecast(model, history, n_input)\n",
        "    # store the predictions\n",
        "    predictions.append(yhat_sequence)\n",
        "    # get real observation and add to history for predicting the next week\n",
        "    history.append(test[i, :])\n",
        "  # evaluate predictions days for each week\n",
        "  predictions = np.array(predictions)\n",
        "  score, scores = evaluate_forecasts(test[:, :, 0], predictions)\n",
        "  return score, scores"
      ],
      "execution_count": 37,
      "outputs": []
    },
    {
      "cell_type": "markdown",
      "metadata": {
        "id": "Vp7Rtf31i10N"
      },
      "source": [
        "## 2.4 TRAINING N INPUT N OUTPUT FUNCTIONS"
      ]
    },
    {
      "cell_type": "code",
      "metadata": {
        "id": "HmyP5LaXi7ms"
      },
      "source": [
        "# train the model\n",
        "def build_model(train, n_input):\n",
        "  # prepare data\n",
        "  train_x, train_y = to_supervised(train, n_input)\n",
        "  # define parameters\n",
        "  verbose, epochs, batch_size = 0, 70, 16\n",
        "  n_timesteps, n_features, n_outputs = train_x.shape[1], train_x.shape[2], train_y.shape[1]\n",
        "  # define model\n",
        "  model = Sequential()\n",
        "  model.add(Conv1D(filters=32, kernel_size=3, activation='relu',\n",
        "    input_shape=(n_timesteps,n_features)))\n",
        "  model.add(Conv1D(filters=32, kernel_size=3, activation='relu'))\n",
        "  model.add(MaxPooling1D(pool_size=2))\n",
        "  model.add(Conv1D(filters=16, kernel_size=3, activation='relu'))\n",
        "  model.add(MaxPooling1D(pool_size=2))\n",
        "  model.add(Flatten())\n",
        "  model.add(Dense(100, activation='relu'))\n",
        "  model.add(Dense(n_outputs))\n",
        "  model.compile(loss='mse', optimizer='adam')\n",
        "  # fit network\n",
        "  model.fit(train_x, train_y, epochs=epochs, batch_size=batch_size, verbose=verbose)\n",
        "  return model"
      ],
      "execution_count": 38,
      "outputs": []
    },
    {
      "cell_type": "markdown",
      "metadata": {
        "id": "5s6nce_UjN3s"
      },
      "source": [
        "## 2.5 SPLIT DATA SET FUNCTIONS"
      ]
    },
    {
      "cell_type": "code",
      "metadata": {
        "id": "zfjfDU8QjT1b"
      },
      "source": [
        "def split_dataset(data,train_test_ratio,n_output_steps):\n",
        "  # split into standard weeks\n",
        "  # boi so cua buoc\n",
        "  n_pairs_totall=int(data.shape[0]/n_output_steps)\n",
        "  n_pairs_train=int(train_test_ratio*int(data.shape[0]/n_output_steps))\n",
        "  n_pairs_test=int(n_pairs_totall-n_pairs_train)\n",
        "  train, test = data[:-(n_pairs_train*n_output_steps)], data[-(n_pairs_train*n_output_steps):-n_output_steps]\n",
        "  # restructure into windows of number_steps data\n",
        "  train = np.array(np.split(train, train.shape[0]/n_output_steps))\n",
        "  test = np.array(np.split(test, test.shape[0]/n_output_steps))\n",
        "  return train, test"
      ],
      "execution_count": 39,
      "outputs": []
    },
    {
      "cell_type": "markdown",
      "metadata": {
        "id": "ft_hrDUyogxT"
      },
      "source": [
        "## 2.6 SUMMARIZE SCORE FUNCTIONS"
      ]
    },
    {
      "cell_type": "code",
      "metadata": {
        "id": "sHZVPYOkolMB"
      },
      "source": [
        "# summarize scores\n",
        "def summarize_scores(name, score, scores):\n",
        "  s_scores=','.join(['%.1f' % s for s in scores])\n",
        "  print('%s: [%.3f] %s' %(name, score,s_scores))"
      ],
      "execution_count": 40,
      "outputs": []
    },
    {
      "cell_type": "markdown",
      "metadata": {
        "id": "kkNVIE4XpPYV"
      },
      "source": [
        "# 3 DATA PROCESSING"
      ]
    },
    {
      "cell_type": "markdown",
      "metadata": {
        "id": "LQfpMijjpXSX"
      },
      "source": [
        "## 3.1 LOAD DATA"
      ]
    },
    {
      "cell_type": "code",
      "metadata": {
        "id": "i4eAHHjJpZqp"
      },
      "source": [
        "# load the new file\n",
        "dataset = pd.read_csv('input_data/percentile_101.csv', header=0,\n",
        "infer_datetime_format=True, parse_dates=['Date'], index_col=['Date'])"
      ],
      "execution_count": 41,
      "outputs": []
    },
    {
      "cell_type": "markdown",
      "metadata": {
        "id": "odDhvpYPq63J"
      },
      "source": [
        "## 3.2 SPLIT DATASET"
      ]
    },
    {
      "cell_type": "code",
      "metadata": {
        "id": "L9KLpHYDrBSb"
      },
      "source": [
        "# split into train and test\n",
        "train, test = split_dataset(dataset.values,train_test_ratio=0.23,n_output_steps=6)"
      ],
      "execution_count": 42,
      "outputs": []
    },
    {
      "cell_type": "markdown",
      "metadata": {
        "id": "DqE-6I5CrYAc"
      },
      "source": [
        "## 3.3 SET INPUT LAG"
      ]
    },
    {
      "cell_type": "code",
      "metadata": {
        "id": "PCOc6ciMrcwR"
      },
      "source": [
        "n_input = 12 # 24 thang tot nhat cho cnn"
      ],
      "execution_count": 43,
      "outputs": []
    },
    {
      "cell_type": "markdown",
      "metadata": {
        "id": "XtkJb39NrmaU"
      },
      "source": [
        "## 3.4 EVALUATE MODELS"
      ]
    },
    {
      "cell_type": "code",
      "metadata": {
        "id": "RHSEJsAprykF"
      },
      "source": [
        "score, scores = evaluate_model(train, test, n_input)"
      ],
      "execution_count": 44,
      "outputs": []
    },
    {
      "cell_type": "markdown",
      "metadata": {
        "id": "jqnZgWUzr6gZ"
      },
      "source": [
        "## 3.5 SUMMARIZE AND PLOT"
      ]
    },
    {
      "cell_type": "code",
      "metadata": {
        "colab": {
          "base_uri": "https://localhost:8080/",
          "height": 283
        },
        "id": "AcSmrugdr_KO",
        "outputId": "6ba56244-f92e-4c39-addc-e6f10b1d2400"
      },
      "source": [
        "summarize_scores('cnn', score, scores)\n",
        "# plot scores\n",
        "days = ['mon1', 'mon2', 'mon3', 'mon4', 'mon5', 'mon6']\n",
        "plt.plot(days, scores, marker='o', label='cnn')\n",
        "plt.legend()\n",
        "plt.ylabel('RMSE')\n",
        "plt.show()"
      ],
      "execution_count": 45,
      "outputs": [
        {
          "output_type": "stream",
          "text": [
            "cnn: [0.606] 0.7,0.6,0.6,0.6,0.7,0.3\n"
          ],
          "name": "stdout"
        },
        {
          "output_type": "display_data",
          "data": {
            "image/png": "[encoded data removed]",
            "text/plain": [
              "<Figure size 432x288 with 1 Axes>"
            ]
          },
          "metadata": {
            "tags": [],
            "needs_background": "light"
          }
        }
      ]
    },
    {
      "cell_type": "markdown",
      "metadata": {
        "id": "QUo8ZuSgwO9F"
      },
      "source": [
        "# 4. FARMING"
      ]
    },
    {
      "cell_type": "markdown",
      "metadata": {
        "id": "w4EH4TbBwR2P"
      },
      "source": [
        "## 4.1 MULTI-VARIATES OUTPUT "
      ]
    },
    {
      "cell_type": "code",
      "metadata": {
        "id": "XbzSFRZ6wa40"
      },
      "source": [
        "model=build_model(train, n_input)"
      ],
      "execution_count": 46,
      "outputs": []
    },
    {
      "cell_type": "code",
      "metadata": {
        "colab": {
          "base_uri": "https://localhost:8080/"
        },
        "id": "WsyUWuMbwl9g",
        "outputId": "1c68c71a-390b-4a1f-a86c-ac22924bf3f9"
      },
      "source": [
        "# prepare testing data\n",
        "test_x, test_y = to_supervised(test, n_input)\n",
        "yhat=model.predict(test_x)\n",
        "yhat"
      ],
      "execution_count": 48,
      "outputs": [
        {
          "output_type": "execute_result",
          "data": {
            "text/plain": [
              "array([[-0.09442836, -0.20518884, -0.07032948, -0.04716875,  0.15378803,\n",
              "         0.3636788 ],\n",
              "       [-0.09442836, -0.20518884, -0.07032948, -0.04716875,  0.15378803,\n",
              "         0.3636788 ],\n",
              "       [-0.09442836, -0.20518884, -0.07032948, -0.04716875,  0.15378803,\n",
              "         0.3636788 ],\n",
              "       [-0.09442836, -0.20518884, -0.07032948, -0.04716875,  0.15378803,\n",
              "         0.3636788 ],\n",
              "       [-0.09442836, -0.20518884, -0.07032948, -0.04716875,  0.15378803,\n",
              "         0.3636788 ],\n",
              "       [-0.09442836, -0.20518884, -0.07032948, -0.04716875,  0.15378803,\n",
              "         0.3636788 ],\n",
              "       [-0.09442836, -0.20518884, -0.07032948, -0.04716875,  0.15378803,\n",
              "         0.3636788 ],\n",
              "       [-0.09442836, -0.20518884, -0.07032948, -0.04716875,  0.15378803,\n",
              "         0.3636788 ],\n",
              "       [-0.09442836, -0.20518884, -0.07032948, -0.04716875,  0.15378803,\n",
              "         0.3636788 ],\n",
              "       [-0.09442836, -0.20518884, -0.07032948, -0.04716875,  0.15378803,\n",
              "         0.3636788 ],\n",
              "       [-0.09442836, -0.20518884, -0.07032948, -0.04716875,  0.15378803,\n",
              "         0.3636788 ],\n",
              "       [-0.09442836, -0.20518884, -0.07032948, -0.04716875,  0.15378803,\n",
              "         0.3636788 ],\n",
              "       [-0.09442836, -0.20518884, -0.07032948, -0.04716875,  0.15378803,\n",
              "         0.3636788 ],\n",
              "       [-0.09442836, -0.20518884, -0.07032948, -0.04716875,  0.15378803,\n",
              "         0.3636788 ],\n",
              "       [-0.09442836, -0.20518884, -0.07032948, -0.04716875,  0.15378803,\n",
              "         0.3636788 ],\n",
              "       [-0.09442836, -0.20518884, -0.07032948, -0.04716875,  0.15378803,\n",
              "         0.3636788 ],\n",
              "       [-0.09442836, -0.20518884, -0.07032948, -0.04716875,  0.15378803,\n",
              "         0.3636788 ],\n",
              "       [-0.09442836, -0.20518884, -0.07032948, -0.04716875,  0.15378803,\n",
              "         0.3636788 ],\n",
              "       [-0.09442836, -0.20518884, -0.07032948, -0.04716875,  0.15378803,\n",
              "         0.3636788 ],\n",
              "       [-0.09442836, -0.20518884, -0.07032948, -0.04716875,  0.15378803,\n",
              "         0.3636788 ],\n",
              "       [-0.09442836, -0.20518884, -0.07032948, -0.04716875,  0.15378803,\n",
              "         0.3636788 ],\n",
              "       [-0.09442836, -0.20518884, -0.07032948, -0.04716875,  0.15378803,\n",
              "         0.3636788 ],\n",
              "       [-0.09442836, -0.20518884, -0.07032948, -0.04716875,  0.15378803,\n",
              "         0.3636788 ],\n",
              "       [-0.09442836, -0.20518884, -0.07032948, -0.04716875,  0.15378803,\n",
              "         0.3636788 ],\n",
              "       [-0.09442836, -0.20518884, -0.07032948, -0.04716875,  0.15378803,\n",
              "         0.3636788 ],\n",
              "       [-0.09442836, -0.20518884, -0.07032948, -0.04716875,  0.15378803,\n",
              "         0.3636788 ],\n",
              "       [-0.09442836, -0.20518884, -0.07032948, -0.04716875,  0.15378803,\n",
              "         0.3636788 ],\n",
              "       [-0.09442836, -0.20518884, -0.07032948, -0.04716875,  0.15378803,\n",
              "         0.3636788 ],\n",
              "       [-0.09442836, -0.20518884, -0.07032948, -0.04716875,  0.15378803,\n",
              "         0.3636788 ],\n",
              "       [-0.09442836, -0.20518884, -0.07032948, -0.04716875,  0.15378803,\n",
              "         0.3636788 ],\n",
              "       [-0.09442836, -0.20518887, -0.07032949, -0.04716876,  0.15378805,\n",
              "         0.36367887],\n",
              "       [-0.09442847, -0.20518884, -0.07032944, -0.04716871,  0.15378807,\n",
              "         0.36367875],\n",
              "       [-0.09442836, -0.20518884, -0.07032948, -0.04716875,  0.15378803,\n",
              "         0.3636788 ],\n",
              "       [-0.09442836, -0.20518884, -0.07032948, -0.04716875,  0.15378803,\n",
              "         0.3636788 ],\n",
              "       [-0.09442836, -0.20518884, -0.07032948, -0.04716875,  0.15378803,\n",
              "         0.3636788 ],\n",
              "       [-0.09442836, -0.20518884, -0.07032948, -0.04716875,  0.15378803,\n",
              "         0.3636788 ],\n",
              "       [-0.09442836, -0.20518884, -0.07032948, -0.04716875,  0.15378803,\n",
              "         0.3636788 ],\n",
              "       [-0.09442836, -0.20518884, -0.07032948, -0.04716875,  0.15378803,\n",
              "         0.3636788 ],\n",
              "       [-0.09442836, -0.20518884, -0.07032948, -0.04716875,  0.15378803,\n",
              "         0.3636788 ],\n",
              "       [-0.09442836, -0.20518884, -0.07032948, -0.04716875,  0.15378803,\n",
              "         0.3636788 ],\n",
              "       [-0.09442836, -0.20518884, -0.07032948, -0.04716875,  0.15378803,\n",
              "         0.3636788 ],\n",
              "       [-0.09442836, -0.20518884, -0.07032948, -0.04716875,  0.15378803,\n",
              "         0.3636788 ],\n",
              "       [-0.09442836, -0.20518884, -0.07032948, -0.04716875,  0.15378803,\n",
              "         0.3636788 ],\n",
              "       [-0.09442836, -0.20518884, -0.07032948, -0.04716875,  0.15378803,\n",
              "         0.3636788 ],\n",
              "       [-0.09442836, -0.20518884, -0.07032948, -0.04716875,  0.15378803,\n",
              "         0.3636788 ],\n",
              "       [-0.09442836, -0.20518884, -0.07032948, -0.04716875,  0.15378803,\n",
              "         0.3636788 ],\n",
              "       [-0.09442836, -0.20518884, -0.07032948, -0.04716875,  0.15378803,\n",
              "         0.3636788 ],\n",
              "       [-0.09442836, -0.20518884, -0.07032948, -0.04716875,  0.15378803,\n",
              "         0.3636788 ],\n",
              "       [-0.09442836, -0.20518884, -0.07032948, -0.04716875,  0.15378803,\n",
              "         0.3636788 ],\n",
              "       [-0.09442836, -0.20518884, -0.07032948, -0.04716875,  0.15378803,\n",
              "         0.3636788 ],\n",
              "       [-0.09442836, -0.20518884, -0.07032948, -0.04716875,  0.15378803,\n",
              "         0.3636788 ],\n",
              "       [-0.09442836, -0.20518884, -0.07032948, -0.04716875,  0.15378803,\n",
              "         0.3636788 ],\n",
              "       [-0.09442836, -0.20518884, -0.07032948, -0.04716875,  0.15378803,\n",
              "         0.3636788 ],\n",
              "       [-0.09442836, -0.20518884, -0.07032948, -0.04716875,  0.15378803,\n",
              "         0.3636788 ],\n",
              "       [-0.09442836, -0.20518884, -0.07032948, -0.04716875,  0.15378803,\n",
              "         0.3636788 ],\n",
              "       [-0.09442836, -0.20518884, -0.07032948, -0.04716875,  0.15378803,\n",
              "         0.3636788 ],\n",
              "       [-0.09442836, -0.20518884, -0.07032948, -0.04716875,  0.15378803,\n",
              "         0.3636788 ],\n",
              "       [-0.09442836, -0.20518884, -0.07032948, -0.04716875,  0.15378803,\n",
              "         0.3636788 ],\n",
              "       [-0.09442836, -0.20518884, -0.07032948, -0.04716875,  0.15378803,\n",
              "         0.3636788 ],\n",
              "       [-0.09442836, -0.20518884, -0.07032948, -0.04716875,  0.15378803,\n",
              "         0.3636788 ],\n",
              "       [-0.09442836, -0.20518884, -0.07032948, -0.04716875,  0.15378803,\n",
              "         0.3636788 ],\n",
              "       [-0.09442836, -0.20518884, -0.07032948, -0.04716875,  0.15378803,\n",
              "         0.3636788 ],\n",
              "       [-0.09442836, -0.20518887, -0.07032949, -0.04716876,  0.15378805,\n",
              "         0.36367887],\n",
              "       [-0.09442847, -0.20518884, -0.07032944, -0.04716871,  0.15378807,\n",
              "         0.36367875],\n",
              "       [-0.09442836, -0.20518884, -0.07032948, -0.04716875,  0.15378803,\n",
              "         0.3636788 ],\n",
              "       [-0.09442836, -0.20518884, -0.07032948, -0.04716875,  0.15378803,\n",
              "         0.3636788 ],\n",
              "       [-0.09442836, -0.20518884, -0.07032948, -0.04716875,  0.15378803,\n",
              "         0.3636788 ],\n",
              "       [-0.09442836, -0.20518884, -0.07032948, -0.04716875,  0.15378803,\n",
              "         0.3636788 ],\n",
              "       [-0.09442836, -0.20518884, -0.07032948, -0.04716875,  0.15378803,\n",
              "         0.3636788 ],\n",
              "       [-0.09442836, -0.20518884, -0.07032948, -0.04716875,  0.15378803,\n",
              "         0.3636788 ],\n",
              "       [-0.09442836, -0.20518884, -0.07032948, -0.04716875,  0.15378803,\n",
              "         0.3636788 ],\n",
              "       [-0.09442836, -0.20518884, -0.07032948, -0.04716875,  0.15378803,\n",
              "         0.3636788 ],\n",
              "       [-0.09442836, -0.20518884, -0.07032948, -0.04716875,  0.15378803,\n",
              "         0.3636788 ],\n",
              "       [-0.09442836, -0.20518884, -0.07032948, -0.04716875,  0.15378803,\n",
              "         0.3636788 ],\n",
              "       [-0.09442836, -0.20518884, -0.07032948, -0.04716875,  0.15378803,\n",
              "         0.3636788 ],\n",
              "       [-0.09442836, -0.20518884, -0.07032948, -0.04716875,  0.15378803,\n",
              "         0.3636788 ],\n",
              "       [-0.09442836, -0.20518884, -0.07032948, -0.04716875,  0.15378803,\n",
              "         0.3636788 ],\n",
              "       [-0.09442836, -0.20518884, -0.07032948, -0.04716875,  0.15378803,\n",
              "         0.3636788 ],\n",
              "       [-0.09442836, -0.20518884, -0.07032948, -0.04716875,  0.15378803,\n",
              "         0.3636788 ],\n",
              "       [-0.09442836, -0.20518884, -0.07032948, -0.04716875,  0.15378803,\n",
              "         0.3636788 ],\n",
              "       [-0.09442836, -0.20518884, -0.07032948, -0.04716875,  0.15378803,\n",
              "         0.3636788 ],\n",
              "       [-0.09442836, -0.20518884, -0.07032948, -0.04716875,  0.15378803,\n",
              "         0.3636788 ],\n",
              "       [-0.09442836, -0.20518884, -0.07032948, -0.04716875,  0.15378803,\n",
              "         0.3636788 ],\n",
              "       [-0.09442836, -0.20518884, -0.07032948, -0.04716875,  0.15378803,\n",
              "         0.3636788 ],\n",
              "       [-0.09442838, -0.20518887, -0.07032946, -0.04716874,  0.15378806,\n",
              "         0.36367878],\n",
              "       [-0.09442836, -0.20518884, -0.07032948, -0.04716875,  0.15378803,\n",
              "         0.3636788 ],\n",
              "       [-0.09442836, -0.20518884, -0.07032948, -0.04716875,  0.15378803,\n",
              "         0.3636788 ],\n",
              "       [-0.09442836, -0.20518884, -0.07032948, -0.04716875,  0.15378803,\n",
              "         0.3636788 ],\n",
              "       [-0.09442836, -0.20518887, -0.07032949, -0.04716876,  0.15378805,\n",
              "         0.36367887],\n",
              "       [-0.09442845, -0.20518884, -0.07032946, -0.04716874,  0.15378806,\n",
              "         0.36367878]], dtype=float32)"
            ]
          },
          "metadata": {
            "tags": []
          },
          "execution_count": 48
        }
      ]
    }
  ]
}